{
  "cells": [
    {
      "cell_type": "code",
      "execution_count": 1,
      "metadata": {
        "id": "gdd_bx004kVu"
      },
      "outputs": [],
      "source": [
        "import pandas as pd\n",
        "from sklearn.model_selection import train_test_split\n",
        "from keras.models import Model\n",
        "from keras.layers import Input, Embedding, Flatten, Dot, Dense\n",
        "from keras.optimizers import Adam\n",
        "import numpy as np"
      ]
    },
    {
      "cell_type": "code",
      "source": [
        "from google.colab import drive\n",
        "drive.mount('/content/drive')"
      ],
      "metadata": {
        "colab": {
          "base_uri": "https://localhost:8080/"
        },
        "id": "_Biq-TSAReFI",
        "outputId": "7d979461-8208-48fa-c0fe-9c4bd021c715"
      },
      "execution_count": 2,
      "outputs": [
        {
          "output_type": "stream",
          "name": "stdout",
          "text": [
            "Mounted at /content/drive\n"
          ]
        }
      ]
    },
    {
      "cell_type": "code",
      "execution_count": 2,
      "metadata": {
        "id": "8iAj-TO74lq4"
      },
      "outputs": [],
      "source": [
        "# Load the datasets\n",
        "movies = pd.read_csv(r'/content/drive/MyDrive/Datasets/movie.csv')\n",
        "ratings = pd.read_csv(r'/content/drive/MyDrive/Datasets/rating.csv')\n",
        "\n",
        "#print(movies.head(5))\n",
        "#print(ratings.head(5))"
      ]
    },
    {
      "cell_type": "code",
      "execution_count": 3,
      "metadata": {
        "id": "b6tkEyAD4tOU"
      },
      "outputs": [],
      "source": [
        "# Merge the datasets\n",
        "data = pd.merge(ratings, movies, on='movieId')"
      ]
    },
    {
      "cell_type": "code",
      "source": [
        "# Check if movieId and userId are within the expected range\n",
        "max_movie_id = len(data['movieId'].unique())\n",
        "max_user_id = len(data['userId'].unique())\n",
        "\n",
        "# Filter out invalid movieId and userId\n",
        "data = data[(data['movieId'] <= max_movie_id) & (data['userId'] <= max_user_id)]\n",
        "\n",
        "# Split the data into training and testing sets\n",
        "train_data, test_data = train_test_split(data, test_size=0.1, random_state=42)"
      ],
      "metadata": {
        "id": "9NUjQb9ikFdH"
      },
      "execution_count": 4,
      "outputs": []
    },
    {
      "cell_type": "code",
      "execution_count": 5,
      "metadata": {
        "colab": {
          "base_uri": "https://localhost:8080/"
        },
        "id": "QrLJI01gyn5E",
        "outputId": "2b6726cb-9338-4a0a-c1c1-65abe460c7c2"
      },
      "outputs": [
        {
          "output_type": "stream",
          "name": "stdout",
          "text": [
            "Epoch 1/10\n",
            "26181/26181 [==============================] - 447s 17ms/step - loss: 2.6631 - val_loss: 0.8723\n",
            "Epoch 2/10\n",
            "26181/26181 [==============================] - 448s 17ms/step - loss: 0.7928 - val_loss: 0.7883\n",
            "Epoch 3/10\n",
            "26181/26181 [==============================] - 441s 17ms/step - loss: 0.6897 - val_loss: 0.7482\n",
            "Epoch 4/10\n",
            "26181/26181 [==============================] - 442s 17ms/step - loss: 0.6028 - val_loss: 0.7444\n",
            "Epoch 5/10\n",
            "26181/26181 [==============================] - 437s 17ms/step - loss: 0.5293 - val_loss: 0.7625\n",
            "Epoch 6/10\n",
            "26181/26181 [==============================] - 442s 17ms/step - loss: 0.4734 - val_loss: 0.7865\n",
            "Epoch 7/10\n",
            "26181/26181 [==============================] - 440s 17ms/step - loss: 0.4342 - val_loss: 0.8107\n",
            "Epoch 8/10\n",
            "26181/26181 [==============================] - 442s 17ms/step - loss: 0.4059 - val_loss: 0.8336\n",
            "Epoch 9/10\n",
            "26181/26181 [==============================] - 448s 17ms/step - loss: 0.3852 - val_loss: 0.8576\n",
            "Epoch 10/10\n",
            "26181/26181 [==============================] - 452s 17ms/step - loss: 0.3699 - val_loss: 0.8798\n"
          ]
        },
        {
          "output_type": "execute_result",
          "data": {
            "text/plain": [
              "<keras.src.callbacks.History at 0x78ed7a48eef0>"
            ]
          },
          "metadata": {},
          "execution_count": 5
        }
      ],
      "source": [
        "# Create user and movie input layers\n",
        "user_input = Input(shape=(1,), name='user_input')\n",
        "movie_input = Input(shape=(1,), name='movie_input')\n",
        "\n",
        "# Embedding layers for users and movies\n",
        "user_embedding = Embedding(input_dim=max_user_id + 1, output_dim=50, input_length=1, name='user_embedding')(user_input)\n",
        "movie_embedding = Embedding(input_dim=max_movie_id + 1, output_dim=50, input_length=1, name='movie_embedding')(movie_input)\n",
        "\n",
        "# Flatten the embedding layers\n",
        "user_flat = Flatten()(user_embedding)\n",
        "movie_flat = Flatten()(movie_embedding)\n",
        "\n",
        "# Dot product of user and movie embeddings\n",
        "dot_product = Dot(axes=1)([user_flat, movie_flat])\n",
        "\n",
        "# Combine the model\n",
        "model = Model(inputs=[user_input, movie_input], outputs=dot_product)\n",
        "model.compile(optimizer=Adam(learning_rate=0.001), loss='mean_squared_error')\n",
        "\n",
        "# Train the model on the training set\n",
        "model.fit([train_data['userId'], train_data['movieId']], train_data['rating'], epochs=1, validation_data=([test_data['userId'], test_data['movieId']], test_data['rating']))"
      ]
    },
    {
      "cell_type": "code",
      "source": [
        "# Evaluate the model accuracy on the testing set\n",
        "loss = model.evaluate([test_data['userId'], test_data['movieId']], test_data['rating'])\n",
        "print(f'Model Test Loss: {loss}')"
      ],
      "metadata": {
        "colab": {
          "base_uri": "https://localhost:8080/",
          "height": 210
        },
        "id": "8Mphc4I1Z-FK",
        "outputId": "7c5079d5-eb2a-4c04-c559-eb2364e8ab3e"
      },
      "execution_count": 9,
      "outputs": [
        {
          "output_type": "error",
          "ename": "NameError",
          "evalue": "ignored",
          "traceback": [
            "\u001b[0;31m---------------------------------------------------------------------------\u001b[0m",
            "\u001b[0;31mNameError\u001b[0m                                 Traceback (most recent call last)",
            "\u001b[0;32m<ipython-input-9-bc603631841c>\u001b[0m in \u001b[0;36m<cell line: 2>\u001b[0;34m()\u001b[0m\n\u001b[1;32m      1\u001b[0m \u001b[0;31m# Evaluate the model accuracy on the testing set\u001b[0m\u001b[0;34m\u001b[0m\u001b[0;34m\u001b[0m\u001b[0m\n\u001b[0;32m----> 2\u001b[0;31m \u001b[0mloss\u001b[0m \u001b[0;34m=\u001b[0m \u001b[0mmodel\u001b[0m\u001b[0;34m.\u001b[0m\u001b[0mevaluate\u001b[0m\u001b[0;34m(\u001b[0m\u001b[0;34m[\u001b[0m\u001b[0mtest_data\u001b[0m\u001b[0;34m[\u001b[0m\u001b[0;34m'userId'\u001b[0m\u001b[0;34m]\u001b[0m\u001b[0;34m,\u001b[0m \u001b[0mtest_data\u001b[0m\u001b[0;34m[\u001b[0m\u001b[0;34m'movieId'\u001b[0m\u001b[0;34m]\u001b[0m\u001b[0;34m]\u001b[0m\u001b[0;34m,\u001b[0m \u001b[0mtest_data\u001b[0m\u001b[0;34m[\u001b[0m\u001b[0;34m'rating'\u001b[0m\u001b[0;34m]\u001b[0m\u001b[0;34m)\u001b[0m\u001b[0;34m\u001b[0m\u001b[0;34m\u001b[0m\u001b[0m\n\u001b[0m\u001b[1;32m      3\u001b[0m \u001b[0mprint\u001b[0m\u001b[0;34m(\u001b[0m\u001b[0;34mf'Model Test Loss: {loss}'\u001b[0m\u001b[0;34m)\u001b[0m\u001b[0;34m\u001b[0m\u001b[0;34m\u001b[0m\u001b[0m\n",
            "\u001b[0;31mNameError\u001b[0m: name 'model' is not defined"
          ]
        }
      ]
    },
    {
      "cell_type": "code",
      "execution_count": 10,
      "metadata": {
        "colab": {
          "base_uri": "https://localhost:8080/",
          "height": 390
        },
        "id": "bET1pzOZ52Wa",
        "outputId": "51888ac7-4169-4ec5-b562-759c585b9130"
      },
      "outputs": [
        {
          "output_type": "error",
          "ename": "KeyboardInterrupt",
          "evalue": "ignored",
          "traceback": [
            "\u001b[0;31m---------------------------------------------------------------------------\u001b[0m",
            "\u001b[0;31mKeyboardInterrupt\u001b[0m                         Traceback (most recent call last)",
            "\u001b[0;32m<ipython-input-10-d4889cb99e62>\u001b[0m in \u001b[0;36m<cell line: 2>\u001b[0;34m()\u001b[0m\n\u001b[1;32m      1\u001b[0m \u001b[0;31m# User input for movie genre\u001b[0m\u001b[0;34m\u001b[0m\u001b[0;34m\u001b[0m\u001b[0m\n\u001b[0;32m----> 2\u001b[0;31m \u001b[0mmovie_genre\u001b[0m \u001b[0;34m=\u001b[0m \u001b[0minput\u001b[0m\u001b[0;34m(\u001b[0m\u001b[0;34m\"Enter the movie genre: \"\u001b[0m\u001b[0;34m)\u001b[0m\u001b[0;34m\u001b[0m\u001b[0;34m\u001b[0m\u001b[0m\n\u001b[0m\u001b[1;32m      3\u001b[0m \u001b[0;34m\u001b[0m\u001b[0m\n\u001b[1;32m      4\u001b[0m \u001b[0;31m# Find movies of the entered genre\u001b[0m\u001b[0;34m\u001b[0m\u001b[0;34m\u001b[0m\u001b[0m\n\u001b[1;32m      5\u001b[0m \u001b[0mgenre_movies\u001b[0m \u001b[0;34m=\u001b[0m \u001b[0mmovies\u001b[0m\u001b[0;34m[\u001b[0m\u001b[0mmovies\u001b[0m\u001b[0;34m[\u001b[0m\u001b[0;34m'genres'\u001b[0m\u001b[0;34m]\u001b[0m\u001b[0;34m.\u001b[0m\u001b[0mstr\u001b[0m\u001b[0;34m.\u001b[0m\u001b[0mlower\u001b[0m\u001b[0;34m(\u001b[0m\u001b[0;34m)\u001b[0m\u001b[0;34m.\u001b[0m\u001b[0mstr\u001b[0m\u001b[0;34m.\u001b[0m\u001b[0mcontains\u001b[0m\u001b[0;34m(\u001b[0m\u001b[0mmovie_genre\u001b[0m\u001b[0;34m.\u001b[0m\u001b[0mlower\u001b[0m\u001b[0;34m(\u001b[0m\u001b[0;34m)\u001b[0m\u001b[0;34m)\u001b[0m\u001b[0;34m]\u001b[0m\u001b[0;34m\u001b[0m\u001b[0;34m\u001b[0m\u001b[0m\n",
            "\u001b[0;32m/usr/local/lib/python3.10/dist-packages/ipykernel/kernelbase.py\u001b[0m in \u001b[0;36mraw_input\u001b[0;34m(self, prompt)\u001b[0m\n\u001b[1;32m    849\u001b[0m                 \u001b[0;34m\"raw_input was called, but this frontend does not support input requests.\"\u001b[0m\u001b[0;34m\u001b[0m\u001b[0;34m\u001b[0m\u001b[0m\n\u001b[1;32m    850\u001b[0m             )\n\u001b[0;32m--> 851\u001b[0;31m         return self._input_request(str(prompt),\n\u001b[0m\u001b[1;32m    852\u001b[0m             \u001b[0mself\u001b[0m\u001b[0;34m.\u001b[0m\u001b[0m_parent_ident\u001b[0m\u001b[0;34m,\u001b[0m\u001b[0;34m\u001b[0m\u001b[0;34m\u001b[0m\u001b[0m\n\u001b[1;32m    853\u001b[0m             \u001b[0mself\u001b[0m\u001b[0;34m.\u001b[0m\u001b[0m_parent_header\u001b[0m\u001b[0;34m,\u001b[0m\u001b[0;34m\u001b[0m\u001b[0;34m\u001b[0m\u001b[0m\n",
            "\u001b[0;32m/usr/local/lib/python3.10/dist-packages/ipykernel/kernelbase.py\u001b[0m in \u001b[0;36m_input_request\u001b[0;34m(self, prompt, ident, parent, password)\u001b[0m\n\u001b[1;32m    893\u001b[0m             \u001b[0;32mexcept\u001b[0m \u001b[0mKeyboardInterrupt\u001b[0m\u001b[0;34m:\u001b[0m\u001b[0;34m\u001b[0m\u001b[0;34m\u001b[0m\u001b[0m\n\u001b[1;32m    894\u001b[0m                 \u001b[0;31m# re-raise KeyboardInterrupt, to truncate traceback\u001b[0m\u001b[0;34m\u001b[0m\u001b[0;34m\u001b[0m\u001b[0m\n\u001b[0;32m--> 895\u001b[0;31m                 \u001b[0;32mraise\u001b[0m \u001b[0mKeyboardInterrupt\u001b[0m\u001b[0;34m(\u001b[0m\u001b[0;34m\"Interrupted by user\"\u001b[0m\u001b[0;34m)\u001b[0m \u001b[0;32mfrom\u001b[0m \u001b[0;32mNone\u001b[0m\u001b[0;34m\u001b[0m\u001b[0;34m\u001b[0m\u001b[0m\n\u001b[0m\u001b[1;32m    896\u001b[0m             \u001b[0;32mexcept\u001b[0m \u001b[0mException\u001b[0m \u001b[0;32mas\u001b[0m \u001b[0me\u001b[0m\u001b[0;34m:\u001b[0m\u001b[0;34m\u001b[0m\u001b[0;34m\u001b[0m\u001b[0m\n\u001b[1;32m    897\u001b[0m                 \u001b[0mself\u001b[0m\u001b[0;34m.\u001b[0m\u001b[0mlog\u001b[0m\u001b[0;34m.\u001b[0m\u001b[0mwarning\u001b[0m\u001b[0;34m(\u001b[0m\u001b[0;34m\"Invalid Message:\"\u001b[0m\u001b[0;34m,\u001b[0m \u001b[0mexc_info\u001b[0m\u001b[0;34m=\u001b[0m\u001b[0;32mTrue\u001b[0m\u001b[0;34m)\u001b[0m\u001b[0;34m\u001b[0m\u001b[0;34m\u001b[0m\u001b[0m\n",
            "\u001b[0;31mKeyboardInterrupt\u001b[0m: Interrupted by user"
          ]
        }
      ],
      "source": [
        "# User input for movie genre\n",
        "movie_genre = input(\"Enter the movie genre: \")\n",
        "\n",
        "# Find movies of the entered genre\n",
        "genre_movies = movies[movies['genres'].str.lower().str.contains(movie_genre.lower())]\n",
        "\n",
        "if genre_movies.empty:\n",
        "    print(f\"No movies found in the dataset for the genre '{movie_genre}'.\")\n",
        "else:\n",
        "    # Get movieId for movies of the entered genre\n",
        "    genre_movie_ids = genre_movies['movieId'].values\n",
        "\n",
        "    # Filter out invalid movieIds\n",
        "    valid_movie_ids = genre_movie_ids[genre_movie_ids <= max_movie_id]\n",
        "\n",
        "    if len(valid_movie_ids) == 0:\n",
        "        print(f\"No valid movies found in the dataset for the genre '{movie_genre}'.\")\n",
        "    else:\n",
        "        # Predict the ratings for movies of the entered genre\n",
        "        user_id = 1  # You can change this to any user ID\n",
        "        user_array = np.full_like(valid_movie_ids, user_id)\n",
        "\n",
        "        # Predict ratings for valid movies\n",
        "        predicted_ratings = model.predict([user_array, valid_movie_ids])\n",
        "\n",
        "        # Combine movieId, predicted ratings, and genres\n",
        "        recommended_movies_data = pd.DataFrame({\n",
        "            'movieId': valid_movie_ids,\n",
        "            'predicted_rating': predicted_ratings[:, 0]\n",
        "        })\n",
        "\n",
        "        # Merge with genre_movies to get full movie details\n",
        "        recommended_movies = pd.merge(recommended_movies_data, genre_movies, on='movieId')\n",
        "\n",
        "        # Sort recommended movies by predicted rating in descending order\n",
        "        recommended_movies = recommended_movies.sort_values(by='predicted_rating', ascending=False)\n",
        "\n",
        "        if recommended_movies.empty:\n",
        "            print(f\"No recommended movies found for the genre '{movie_genre}' with a predicted rating of 3 or above.\")\n",
        "        else:\n",
        "            print(f\"Recommended movies for the genre '{movie_genre}' with a predicted rating of 3 or above:\")\n",
        "            print(recommended_movies[['title']].head(5))\n"
      ]
    },
    {
      "cell_type": "code",
      "source": [
        "from sklearn.svm import SVR\n",
        "from sklearn.tree import DecisionTreeRegressor\n",
        "from sklearn.metrics import mean_squared_error"
      ],
      "metadata": {
        "id": "0rj-gc0yjJP8"
      },
      "execution_count": 5,
      "outputs": []
    },
    {
      "cell_type": "code",
      "source": [
        "# Support Vector Machine (SVM)\n",
        "model_svm = SVR()\n",
        "model_svm.fit(train_data[['userId', 'movieId']], train_data['rating'])\n",
        "\n",
        "# Evaluate SVM\n",
        "predicted_ratings_svm = model_svm.predict(test_data[['userId', 'movieId']])\n",
        "mse_svm = mean_squared_error(test_data['rating'], predicted_ratings_svm)\n",
        "print(f'SVM Test MSE: {mse_svm}')"
      ],
      "metadata": {
        "id": "FJEe8AuGnCGW"
      },
      "execution_count": null,
      "outputs": []
    },
    {
      "cell_type": "code",
      "source": [
        "# Decision Tree\n",
        "model_dt = DecisionTreeRegressor()\n",
        "model_dt.fit(train_data[['userId', 'movieId']], train_data['rating'])\n",
        "\n",
        "# Evaluate Decision Tree\n",
        "predicted_ratings_dt = model_dt.predict(test_data[['userId', 'movieId']])\n",
        "mse_dt = mean_squared_error(test_data['rating'], predicted_ratings_dt)\n",
        "print(f'Decision Tree Test MSE: {mse_dt}')"
      ],
      "metadata": {
        "colab": {
          "base_uri": "https://localhost:8080/"
        },
        "id": "nro5zeO9m_Ug",
        "outputId": "43328179-3f8c-4457-8ea4-fc4006768a0c"
      },
      "execution_count": 6,
      "outputs": [
        {
          "output_type": "stream",
          "name": "stdout",
          "text": [
            "Decision Tree Test MSE: 1.7573478069374469\n"
          ]
        }
      ]
    },
    {
      "cell_type": "code",
      "source": [
        "# Plotting the histogram\n",
        "models = ['Matrix Factorization - Collaborative Filtering', 'SVM', 'Decision Trees']\n",
        "accuracies = [loss, mse_svm, mse_dt]"
      ],
      "metadata": {
        "id": "eQhKdgrgnqrV"
      },
      "execution_count": null,
      "outputs": []
    },
    {
      "cell_type": "code",
      "source": [
        "import matplotlib.pyplot as plt\n",
        "plt.bar(models, accuracies, color=['blue', 'orange', 'green'])\n",
        "plt.xlabel('Models')\n",
        "plt.ylabel('Accuracy')\n",
        "plt.title('Comparison of Recommendation Models')\n",
        "plt.ylim(0, 1)\n",
        "plt.show()"
      ],
      "metadata": {
        "id": "A14MieBAnRVw"
      },
      "execution_count": null,
      "outputs": []
    }
  ],
  "metadata": {
    "colab": {
      "provenance": []
    },
    "kernelspec": {
      "display_name": "Python 3",
      "name": "python3"
    },
    "language_info": {
      "name": "python"
    }
  },
  "nbformat": 4,
  "nbformat_minor": 0
}